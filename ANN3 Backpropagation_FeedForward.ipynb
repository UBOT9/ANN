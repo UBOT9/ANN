{
 "cells": [
  {
   "cell_type": "markdown",
   "id": "eca52f5c-1a87-442b-bd0e-8d94edad27c6",
   "metadata": {},
   "source": [
    "# Write a program for producing back propagation feed forward network"
   ]
  },
  {
   "cell_type": "markdown",
   "id": "08fb8131-b3c0-4980-bb57-09879e2ea1cb",
   "metadata": {},
   "source": [
    "## Implemeting Back propagation Feed Forward"
   ]
  },
  {
   "cell_type": "code",
   "execution_count": 1,
   "id": "fac04b4e-bdd9-44d2-b98d-79705170242d",
   "metadata": {},
   "outputs": [],
   "source": [
    "import numpy as np\n",
    "import pandas as pd"
   ]
  },
  {
   "cell_type": "code",
   "execution_count": 2,
   "id": "1728ee6b-d7f9-402a-a5ad-9f1296311d7a",
   "metadata": {},
   "outputs": [],
   "source": [
    "# Original data\n",
    "X = np.array([[2, 9], [1, 5], [3, 6]])\n",
    "Y = np.array([[92], [86], [89]])"
   ]
  },
  {
   "cell_type": "code",
   "execution_count": 3,
   "id": "f5be0441-81fe-4db2-9d85-af76babeaf6c",
   "metadata": {
    "scrolled": true
   },
   "outputs": [],
   "source": [
    "from sklearn.preprocessing import MinMaxScaler\n",
    "\n",
    "scaler_X = MinMaxScaler()\n",
    "X_scaled = scaler_X.fit_transform(X)\n",
    "\n",
    "\n",
    "scaler_Y = MinMaxScaler()\n",
    "Y_scaled = scaler_Y.fit_transform(Y)\n",
    "\n",
    "X = X_scaled\n",
    "Y = Y_scaled"
   ]
  },
  {
   "cell_type": "code",
   "execution_count": 4,
   "id": "7245911e-7f73-4ebf-b030-682ca6fa3378",
   "metadata": {},
   "outputs": [
    {
     "name": "stdout",
     "output_type": "stream",
     "text": [
      "X Scaled : [[0.5  1.  ]\n",
      " [0.   0.  ]\n",
      " [1.   0.25]]\n",
      "Y Scaled : [[1. ]\n",
      " [0. ]\n",
      " [0.5]]\n"
     ]
    }
   ],
   "source": [
    "print(\"X Scaled :\", X_scaled)\n",
    "print(\"Y Scaled :\", Y_scaled)"
   ]
  },
  {
   "cell_type": "code",
   "execution_count": 5,
   "id": "1e6b5069-3a4a-4f64-829f-17a0c6621cd4",
   "metadata": {},
   "outputs": [],
   "source": [
    "class NeuralNetwork(object):\n",
    "    def __init__(self):\n",
    "        # 1 - Input Layer\n",
    "        # 2 - Hidden Layer \n",
    "        # 3 - Output Layer\n",
    "        self.inputSize = 2\n",
    "        self.hiddenSize = 3\n",
    "        self.outputSize = 1\n",
    "\n",
    "        # Weights\n",
    "        self.W1 = np.random.rand(self.inputSize, self.hiddenSize)  # (3*2) weights matrix from input to hidden layer\n",
    "        self.W2 = np.random.rand(self.hiddenSize, self.outputSize)  # (3*1) weights matrix from hidden layer to output layer\n",
    "\n",
    "    def feedForward(self, X):\n",
    "        self.z = np.dot(X, self.W1)\n",
    "        self.z2 = self.sigmoid(self.z)\n",
    "\n",
    "        self.z3 = np.dot(self.z2, self.W2)\n",
    "        output = self.sigmoid(self.z3)\n",
    "\n",
    "        return output\n",
    "\n",
    "    def sigmoid(self, s, deriv=False):\n",
    "        if deriv:\n",
    "            return s * (1 - s)\n",
    "        return 1 / (1 + np.exp(-s))\n"
   ]
  },
  {
   "cell_type": "code",
   "execution_count": 6,
   "id": "23db8555-b1b1-49f9-a88b-1c0c8f2b9517",
   "metadata": {},
   "outputs": [
    {
     "name": "stdout",
     "output_type": "stream",
     "text": [
      "Original output:\n",
      "[1.  0.  0.5]\n",
      "Predicted output:\n",
      "[0.7630148  0.68183604 0.75259682]\n"
     ]
    }
   ],
   "source": [
    "# Main function\n",
    "if __name__ == \"__main__\":\n",
    "    # Create a neural network object\n",
    "    nn = NeuralNetwork()\n",
    "    \n",
    "\n",
    "    output = nn.feedForward(X)\n",
    "    \n",
    "    # Print original and predicted output\n",
    "    print(\"Original output:\")\n",
    "    print(Y.flatten())\n",
    "    print(\"Predicted output:\")\n",
    "    print(output.flatten())"
   ]
  }
 ],
 "metadata": {
  "kernelspec": {
   "display_name": "Python 3 (ipykernel)",
   "language": "python",
   "name": "python3"
  },
  "language_info": {
   "codemirror_mode": {
    "name": "ipython",
    "version": 3
   },
   "file_extension": ".py",
   "mimetype": "text/x-python",
   "name": "python",
   "nbconvert_exporter": "python",
   "pygments_lexer": "ipython3",
   "version": "3.12.3"
  }
 },
 "nbformat": 4,
 "nbformat_minor": 5
}
