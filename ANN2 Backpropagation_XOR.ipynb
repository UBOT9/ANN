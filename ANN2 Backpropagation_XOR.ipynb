{
 "cells": [
  {
   "cell_type": "code",
   "execution_count": 2,
   "id": "cc90a47b-690d-4784-bd7a-857cf5e78daf",
   "metadata": {},
   "outputs": [],
   "source": [
    "import numpy as np\n",
    "import pandas as pd"
   ]
  },
  {
   "cell_type": "code",
   "execution_count": 3,
   "id": "ed0b4fb1-4111-4a82-a42b-72d1fda86a9d",
   "metadata": {},
   "outputs": [],
   "source": [
    "X = np.array([[0,0],[0,1],[1,0],[1,1]])\n",
    "Y = np.array([[0], [1], [1], [0]])"
   ]
  },
  {
   "cell_type": "code",
   "execution_count": 4,
   "id": "8aeaa481-a874-45ec-9574-a6041f329ac8",
   "metadata": {},
   "outputs": [],
   "source": [
    "# # Scaling the Points\n",
    "# from sklearn.preprocessing import MinMaxScaler\n",
    "\n",
    "# scaled_x = MinMaxScaler()\n",
    "# X_scaled = scaled_x.fit_transform(X)\n",
    "\n",
    "# scaled_y = MinMaxScaler()\n",
    "# Y_scaled = scaled_y.fit_transform(Y)\n",
    "\n",
    "# df_x = pd.DataFrame(X_scaled, columns=['X1', 'X2'])\n",
    "# df_y = pd.DataFrame(Y_scaled, columns=['Y'])\n",
    "\n",
    "# df = pd.concat([df_x, df_y], axis=1)\n",
    "# X = df_x\n",
    "# Y = df_y\n",
    "\n",
    "# print(df)"
   ]
  },
  {
   "cell_type": "markdown",
   "id": "385ff45c-bd78-46ac-9cf0-461e6451ac3b",
   "metadata": {},
   "source": [
    "### Neural Network Implemetation"
   ]
  },
  {
   "cell_type": "code",
   "execution_count": 5,
   "id": "71f26472-1662-4590-8891-1af4a5e88bba",
   "metadata": {},
   "outputs": [],
   "source": [
    "class NeuralNetwork(object):\n",
    "    def __init__(self):\n",
    "        # 1 - Input Layer\n",
    "        # 2 - Hidden Layer \n",
    "        # 3 - Output Layer\n",
    "        self.inputSize = 2\n",
    "        self.hiddenSize = 3\n",
    "        self.outputSize = 1\n",
    "\n",
    "        # Weights\n",
    "        self.W1 = np.random.rand(self.inputSize, self.hiddenSize)  # (3*2) weights matrix from input to hidden layer\n",
    "        self.W2 = np.random.rand(self.hiddenSize, self.outputSize)  # (3*1) weights matrix from hidden layer to output layer\n",
    "\n",
    "    def feedForward(self, X):\n",
    "        self.z = np.dot(X, self.W1)\n",
    "        self.z2 = self.sigmoid(self.z)\n",
    "\n",
    "        self.z3 = np.dot(self.z2, self.W2)\n",
    "        output = self.sigmoid(self.z3)\n",
    "\n",
    "        return output\n",
    "\n",
    "    def sigmoid(self, s, deriv=False):\n",
    "        if deriv:\n",
    "            return s * (1 - s)\n",
    "        return 1 / (1 + np.exp(-s))\n",
    "\n",
    "    def backpropagation(self, X, y, output, learning_rate=0.1):\n",
    "        # Backpropagation through the network\n",
    "        delta_output = (y - output) * self.sigmoid(output, deriv=True)\n",
    "        dW2 = np.dot(self.z2.T, delta_output)\n",
    "\n",
    "        delta_hidden = np.dot(delta_output, self.W2.T) * self.sigmoid(self.z2, deriv=True)\n",
    "        dW1 = np.dot(X.T, delta_hidden)\n",
    "\n",
    "        # Update weights\n",
    "        self.W1 += learning_rate * dW1\n",
    "        self.W2 += learning_rate * dW2"
   ]
  },
  {
   "cell_type": "code",
   "execution_count": 8,
   "id": "594f5270-710b-4398-ad2b-32d36d35cf51",
   "metadata": {},
   "outputs": [
    {
     "name": "stdout",
     "output_type": "stream",
     "text": [
      "Actual output:\n",
      "[0 1 1 0]\n",
      "Predicted output:\n",
      "[0 1 1 0]\n"
     ]
    }
   ],
   "source": [
    "# Main function\n",
    "if __name__ == \"__main__\":\n",
    "    # Create a neural network object\n",
    "    nn = NeuralNetwork()\n",
    "\n",
    "    # Train the neural network\n",
    "    for i in range(10000):\n",
    "        output = nn.feedForward(X)\n",
    "        nn.backpropagation(X, Y, output)\n",
    "\n",
    "    # Round the predicted output to the nearest integer (0 or 1)\n",
    "    predicted_output = np.round(output)\n",
    "\n",
    "    # Convert actual and predicted output to 0 or 1\n",
    "    actual_output = np.array(Y).astype(int)\n",
    "    predicted_output = predicted_output.astype(int)\n",
    "\n",
    "    print(\"Actual output:\")\n",
    "    print(actual_output.flatten())\n",
    "    print(\"Predicted output:\")\n",
    "    print(predicted_output.flatten())"
   ]
  }
 ],
 "metadata": {
  "kernelspec": {
   "display_name": "Python 3 (ipykernel)",
   "language": "python",
   "name": "python3"
  },
  "language_info": {
   "codemirror_mode": {
    "name": "ipython",
    "version": 3
   },
   "file_extension": ".py",
   "mimetype": "text/x-python",
   "name": "python",
   "nbconvert_exporter": "python",
   "pygments_lexer": "ipython3",
   "version": "3.11.4"
  }
 },
 "nbformat": 4,
 "nbformat_minor": 5
}
