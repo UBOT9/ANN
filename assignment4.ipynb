{
 "cells": [
  {
   "cell_type": "code",
   "execution_count": 1,
   "metadata": {},
   "outputs": [],
   "source": [
    "import numpy as np\n",
    "\n",
    "# Define parameters\n",
    "num_input = 4  # Number of input neurons\n",
    "num_output = 2  # Number of output neurons\n",
    "rho = 0.7  # Vigilance parameter\n",
    "theta = 0.5  # Matching parameter\n",
    "\n",
    "# Initialize weights\n",
    "W = np.random.rand(num_output, num_input) * 0.1  # Weight matrix\n",
    "bias = np.random.rand(num_output) * 0.1  # Bias vector\n",
    "\n",
    "# Input data\n",
    "X = np.array([[0, 1, 1, 0],\n",
    "              [1, 0, 1, 0],\n",
    "              [0, 0, 1, 1]])"
   ]
  },
  {
   "cell_type": "code",
   "execution_count": 2,
   "metadata": {},
   "outputs": [],
   "source": [
    "# Function to calculate the activation\n",
    "def calculate_activation(input_data):\n",
    "    activations = np.dot(W, input_data) + bias\n",
    "    return activations\n",
    "\n",
    "# Function to normalize the activations\n",
    "def normalize_activations(activations):\n",
    "    normalized_activations = activations / np.sum(activations)\n",
    "    return normalized_activations\n",
    "\n",
    "# Function to find the winning neuron\n",
    "def find_winner(activations):\n",
    "    return np.argmax(activations)\n",
    "\n",
    "# Function to update weights\n",
    "def update_weights(input_data, winner):\n",
    "    W[winner] = np.maximum(W[winner], input_data)\n",
    "    return W\n",
    "\n",
    "# Function to check vigilance\n",
    "def check_vigilance(input_data, winner):\n",
    "    return np.dot(W[winner], input_data) / np.sum(W[winner])"
   ]
  },
  {
   "cell_type": "code",
   "execution_count": 3,
   "metadata": {},
   "outputs": [
    {
     "name": "stdout",
     "output_type": "stream",
     "text": [
      "Input rejected. Creating new cluster.\n",
      "Input rejected. Creating new cluster.\n",
      "No winner found. Creating new cluster.\n"
     ]
    }
   ],
   "source": [
    "# Main loop\n",
    "for i in range(X.shape[0]):\n",
    "    input_data = X[i]\n",
    "    activations = calculate_activation(input_data)\n",
    "    normalized_activations = normalize_activations(activations)\n",
    "    winner = find_winner(normalized_activations)\n",
    "    \n",
    "    if np.max(normalized_activations) < theta:\n",
    "        print(\"No winner found. Creating new cluster.\")\n",
    "        W = np.vstack([W, input_data])\n",
    "        bias = np.append(bias, 0.1)\n",
    "        num_output += 1\n",
    "    else:\n",
    "        vigilance = check_vigilance(input_data, winner)\n",
    "        if vigilance > rho:\n",
    "            print(\"Input accepted into cluster\", winner)\n",
    "            W = update_weights(input_data, winner)\n",
    "        else:\n",
    "            print(\"Input rejected. Creating new cluster.\")\n",
    "            W = np.vstack([W, input_data])\n",
    "            bias = np.append(bias, 0.1)\n",
    "            num_output += 1"
   ]
  },
  {
   "cell_type": "code",
   "execution_count": 4,
   "metadata": {},
   "outputs": [
    {
     "name": "stdout",
     "output_type": "stream",
     "text": [
      "Final weights:\n",
      "[[0.08100664 0.09516281 0.07954471 0.04107099]\n",
      " [0.0305451  0.01188123 0.06565431 0.0371808 ]\n",
      " [0.         1.         1.         0.        ]\n",
      " [1.         0.         1.         0.        ]\n",
      " [0.         0.         1.         1.        ]]\n"
     ]
    }
   ],
   "source": [
    "print(\"Final weights:\")\n",
    "print(W)"
   ]
  },
  {
   "cell_type": "code",
   "execution_count": null,
   "metadata": {},
   "outputs": [],
   "source": []
  }
 ],
 "metadata": {
  "kernelspec": {
   "display_name": "Python 3 (ipykernel)",
   "language": "python",
   "name": "python3"
  },
  "language_info": {
   "codemirror_mode": {
    "name": "ipython",
    "version": 3
   },
   "file_extension": ".py",
   "mimetype": "text/x-python",
   "name": "python",
   "nbconvert_exporter": "python",
   "pygments_lexer": "ipython3",
   "version": "3.11.4"
  }
 },
 "nbformat": 4,
 "nbformat_minor": 2
}
